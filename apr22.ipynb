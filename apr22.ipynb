{
 "cells": [
  {
   "cell_type": "code",
   "execution_count": 50,
   "id": "7bf1180e-cc36-4e42-888c-79dd8d7c74be",
   "metadata": {},
   "outputs": [
    {
     "name": "stdin",
     "output_type": "stream",
     "text": [
      "Enter the number:  5\n"
     ]
    },
    {
     "name": "stdout",
     "output_type": "stream",
     "text": [
      "28\n"
     ]
    }
   ],
   "source": [
    "import math\n",
    "\n",
    "def is_prime(num):\n",
    "    if num == 0 or num == 1:\n",
    "        return False\n",
    "    for i in range(2, int(math.sqrt(num)) + 1):\n",
    "        if num % i == 0:\n",
    "            return False\n",
    "    return True\n",
    "\n",
    "def sum_n_primes(n):\n",
    "    count = 0\n",
    "    num = 2\n",
    "    total = 0\n",
    "    while count < n:\n",
    "        if is_prime(num):\n",
    "            total += num\n",
    "            count += 1\n",
    "        num += 1\n",
    "    return total\n",
    "\n",
    "n = int(input(\"Enter the number: \"))\n",
    "result = sum_n_primes(n)\n",
    "print(result)\n"
   ]
  },
  {
   "cell_type": "code",
   "execution_count": 48,
   "id": "14a998f1-4d6d-41e2-ae7b-68fa7c594033",
   "metadata": {},
   "outputs": [
    {
     "name": "stdout",
     "output_type": "stream",
     "text": [
      "['IndiA', 'IS', 'MY', 'CountrY']\n"
     ]
    }
   ],
   "source": [
    "sentence=\"india is my country\"\n",
    "words=sentence.split()\n",
    "result=[]\n",
    "for word in words:\n",
    "    new_word=word[0].upper() + word[1:-1] + word[-1].upper()\n",
    "    result.append(new_word)\n",
    "print(result)"
   ]
  },
  {
   "cell_type": "code",
   "execution_count": null,
   "id": "0e988ad1-dcbd-4e23-913b-e3ec894ef34d",
   "metadata": {},
   "outputs": [],
   "source": []
  },
  {
   "cell_type": "code",
   "execution_count": null,
   "id": "0869f5a6-e582-4ec9-8f85-5d286c0f8474",
   "metadata": {},
   "outputs": [],
   "source": []
  }
 ],
 "metadata": {
  "kernelspec": {
   "display_name": "Python 3 (ipykernel)",
   "language": "python",
   "name": "python3"
  },
  "language_info": {
   "codemirror_mode": {
    "name": "ipython",
    "version": 3
   },
   "file_extension": ".py",
   "mimetype": "text/x-python",
   "name": "python",
   "nbconvert_exporter": "python",
   "pygments_lexer": "ipython3",
   "version": "3.12.4"
  }
 },
 "nbformat": 4,
 "nbformat_minor": 5
}
